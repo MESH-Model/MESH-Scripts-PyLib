{
 "cells": [
  {
   "cell_type": "markdown",
   "metadata": {
    "id": "x4f-3SddWgva"
   },
   "source": [
    "# MESH Streamflow File Preparation"
   ]
  },
  {
   "cell_type": "code",
   "execution_count": null,
   "metadata": {
    "id": "oN3E6dPWgujQ"
   },
   "outputs": [],
   "source": [
    "#!pip uninstall MESH-Scripts-PyLib -y"
   ]
  },
  {
   "cell_type": "code",
   "execution_count": null,
   "metadata": {
    "id": "63EP9voTtlVy"
   },
   "outputs": [],
   "source": [
    "#!pip install owslib"
   ]
  },
  {
   "cell_type": "code",
   "execution_count": null,
   "metadata": {
    "id": "gVwA5BJd84KA"
   },
   "outputs": [],
   "source": [
    "#!pip install git+https://github.com/MESH-Model/MESH-Scripts-PyLib.git"
   ]
  },
  {
   "cell_type": "code",
   "execution_count": null,
   "metadata": {
    "id": "NZaE6rn69MqR"
   },
   "outputs": [],
   "source": [
    "from MESHpyPreProcessing.gsde_soil import GSDESoil\n",
    "from MESHpyPreProcessing.NetCDFWriter import NetCDFWriter"
   ]
  },
  {
   "cell_type": "code",
   "execution_count": null,
   "metadata": {
    "id": "CRWR2iNG9cER"
   },
   "outputs": [],
   "source": [
    "from MESHpyPreProcessing.gen_streamflow_file import GenStreamflowFile\n",
    "\n",
    "gen_flow = GenStreamflowFile()"
   ]
  },
  {
   "cell_type": "code",
   "execution_count": null,
   "metadata": {
    "id": "dSVKhpwbKqEQ"
   },
   "outputs": [],
   "source": [
    "#station_ca = [\"05BA001\", \"05BB001\"]\n",
    "\n",
    "#station_us = [\"06132200\", \"05020500\"]\n",
    "station_ca = [\"05MA012\",\"05MA016\",\"05JJ003\",\"05MD010\",\"05MD004\",\"05MB003\",\"05MB006\",\"05MB001\",\"05MC001\",\"05JJ009\",\"05MD007\",\"05MA011\",\"05JH005\",\"05MB005\",\"05MJ003\",\"05MG001\",\"05ME006\",\"05JM001\",\"05JM013\",\"05JK008\",\"05JK007\",\"05JK002\",\"05ME012\",\"05ME001\",\"05ME007\",\"05JF001\",\"05JF005\",\"05JF006\",\"05JF011\",\"05JF012\",\"05JE006\",\"05JE001\",\"05JE004\",\"05JG004\",\"05JK004\",\"05JG013\",\"05MD005\",\"05NE003\",\"05JH001\",\"05JM015\",\"05JL005\",\"05JE005\",\"05MF001\",\"05JM010\",\"05ME003\",\"05MF024\",\"05ME010\",\"05MF008\",\"05JG001\",\"05MJ001\",\"05MJ004\",\"05MH006\",\"05MH001\",\"05MH013\",\"05NG001\",\"05NG007\",\"05NG012\",\"05NG021\",\"05NF001\",\"05NF008\",\"05NF002\",\"05NF012\",\"05ND004\",\"05ND013\",\"05NB001\",\"05NB036\",\"05NG003\",\"05NG024\",\"05NB017\",\"05NB040\",\"05NB011\",\"05NB031\",\"05NB027\",\"05NF007\",\"05ND010\",\"05NC001\",\"05MF018\",\"05NB021\",\"05MG004\",\"05NF006\",\"05NA004\",\"05NG020\",\"05NG019\",\"05NG010\",\"05NA005\",\"05ND007\",\"05NA003\"]\n",
    "station_us = [\"05112000\",\"05113600\",\"05114000\",\"05116000\",\"05116500\"]\n",
    "start_date = \"1980-01-01\"\n",
    "\n",
    "end_date = \"2018-01-10\"\n",
    "\n",
    "combined_data_ca, station_info_ca = gen_flow.fetch_hydrometric_data_ca(station_ca, start_date, end_date)\n",
    "\n",
    "\n",
    "combined_data_us, station_info_us = gen_flow.extract_flow_data_us(station_us, start_date, end_date)\n"
   ]
  },
  {
   "cell_type": "code",
   "execution_count": null,
   "metadata": {
    "id": "PPtaDeiSMoLd"
   },
   "outputs": [],
   "source": [
    "import pandas as pd\n",
    "combined_data = pd.merge(combined_data_ca, combined_data_us, on='Date', how='outer')\n",
    "combined_station_info = station_info_ca + station_info_us\n",
    "#combined_data = combined_data_ca\n",
    "#combined_station_info = station_info_ca"
   ]
  },
  {
   "cell_type": "code",
   "execution_count": null,
   "metadata": {
    "id": "bEstd6TTOxQ_"
   },
   "outputs": [],
   "source": [
    "print(station_info_ca)"
   ]
  },
  {
   "cell_type": "code",
   "execution_count": null,
   "metadata": {
    "id": "UB1tnqTz-Gkz"
   },
   "outputs": [],
   "source": [
    "gen_flow.write_flow_data_to_file_obstxt('MESH_input_streamflow.txt', combined_data, combined_station_info)\n",
    "\n",
    "gen_flow.write_flow_data_to_file_ensim('MESH_input_streamflow.tb0', combined_data, combined_station_info)"
   ]
  },
  {
   "cell_type": "code",
   "execution_count": null,
   "metadata": {
    "id": "5F99Iop6GKEq"
   },
   "outputs": [],
   "source": []
  },
  {
   "cell_type": "code",
   "execution_count": null,
   "metadata": {
    "id": "vBB2Gsb9tzp0"
   },
   "outputs": [],
   "source": [
    "station_ca = [\"05AA004\", \"05AA008\", \"05AA011\", \"05AA022\", \"05AA024\", \"05AA027\", \"05AA028\", \"05AA035\", \"05AB005\", \"05AB021\",\n",
    "         \"05AB029\", \"05AB041\", \"05AC003\", \"05AC012\", \"05AC023\", \"05AC030\", \"05AC031\", \"05AD003\", \"05AD005\", \"05AD007\",\n",
    "         \"05AD010\", \"05AD028\", \"05AD035\", \"05AD041\", \"05AE002\", \"05AE005\", \"05AE006\", \"05AE016\", \"05AE027\", \"05AE043\",\n",
    "         \"05AG003\", \"05AG006\", \"05AH005\", \"05AH037\", \"05AH041\", \"05AH052\", \"05AH053\", \"05AJ001\", \"05BA001\", \"05BA002\",\n",
    "         \"05BB001\", \"05BC001\", \"05BG006\", \"05BG010\", \"05BH004\", \"05BH005\", \"05BH014\", \"05BH015\", \"05BH016\", \"05BJ001\",\n",
    "         \"05BJ004\", \"05BJ010\", \"05BK001\", \"05BL004\", \"05BL007\", \"05BL012\", \"05BL013\", \"05BL014\", \"05BL019\", \"05BL022\",\n",
    "         \"05BL023\", \"05BL024\", \"05BL027\", \"05BM002\", \"05BM004\", \"05BM007\", \"05BM008\", \"05BM014\", \"05BN002\", \"05BN006\",\n",
    "         \"05BN012\", \"05CA002\", \"05CA004\", \"05CA009\", \"05CA011\", \"05CA012\", \"05CB001\", \"05CB002\", \"05CB004\", \"05CB007\",\n",
    "         \"05CC001\", \"05CC002\", \"05CC007\", \"05CC008\", \"05CC009\", \"05CC011\", \"05CC013\", \"05CD006\", \"05CD007\", \"05CE001\",\n",
    "         \"05CE002\", \"05CE005\", \"05CE006\", \"05CE007\", \"05CE012\", \"05CE018\", \"05CE020\", \"05CG004\", \"05CG006\", \"05CH007\",\n",
    "         \"05CH008\", \"05CH011\", \"05CJ006\", \"05CJ012\", \"05CK001\", \"05CK004\", \"05CK005\", \"05CK006\", \"05DA009\", \"05DB002\",\n",
    "         \"05DB006\", \"05DC001\", \"05DC006\", \"05DD009\", \"05DF001\", \"05EA005\", \"05EF001\", \"05FA001\", \"05FA011\", \"05FE004\",\n",
    "         \"05GG001\", \"05HD036\", \"05HD039\", \"05HG001\", \"05JE006\", \"05JF001\", \"05JF005\", \"05JK002\", \"05JK007\", \"05JM001\",\n",
    "         \"05KD003\", \"05KE010\", \"05KH007\", \"05KJ001\", \"05LC001\", \"05LH005\", \"05LJ025\", \"05LL002\", \"05LL014\", \"05LM001\",\n",
    "         \"05LM006\", \"05MD004\", \"05MD005\", \"05ME001\", \"05MF001\", \"05MH001\", \"05MH005\", \"05MJ001\", \"05NA003\", \"05NB001\",\n",
    "         \"05NB021\", \"05NB036\", \"05ND010\", \"05NG001\", \"05NG024\", \"05OB007\", \"05OB016\", \"05OB021\", \"05OC001\", \"05OC012\",\n",
    "         \"05OG001\", \"05PA006\", \"05PB014\", \"05PB018\", \"05PG001\", \"05PH003\", \"05QA004\", \"05QC001\", \"05QD006\", \"05QE008\",\n",
    "         \"05QE009\", \"05QE012\", \"05RA001\", \"05RB003\", \"05RC001\", \"05TD001\", \"05TE002\", \"05TF002\", \"05TG001\", \"05TG002\",\n",
    "         \"05TG003\", \"05TG006\", \"05UA003\", \"05UF004\", \"05UG001\", \"05UH001\", \"05UH002\", \"06AA002\", \"06AB001\", \"06AB002\",\n",
    "         \"06AD006\", \"06AF001\", \"06AG002\", \"06BA002\", \"06BB003\", \"06BB005\", \"06BD001\", \"06CB002\", \"06CD002\", \"06DA002\",\n",
    "         \"06DA004\", \"06DA005\", \"06DC001\", \"06DD002\", \"06DD003\", \"06EA002\", \"06EA006\", \"06EA011\", \"06FA001\", \"06FB001\",\n",
    "         \"06FB002\", \"06FC001\", \"06FD001\", \"06FD002\"]\n",
    "\n",
    "station_us = [\"05017500\", \"05020500\", \"05030500\", \"05046000\", \"05046475\", \"05050000\", \"05051300\", \"05051500\", \"05051522\",\n",
    "         \"05051600\", \"05052000\", \"05052500\", \"05053000\", \"05054000\", \"05054500\", \"05055300\", \"05055400\", \"05056000\",\n",
    "         \"05057000\", \"05057200\", \"05058000\", \"05058500\", \"05058700\", \"05059000\", \"05059500\", \"05059700\", \"05059715\",\n",
    "         \"05060000\", \"05060100\", \"05060500\", \"05061000\", \"05061500\", \"05062000\", \"05062500\", \"05063398\", \"05064000\",\n",
    "         \"05064500\", \"05065500\", \"05066500\", \"05067500\", \"05069000\", \"05070000\", \"05074500\", \"05075000\", \"05076000\",\n",
    "         \"05078000\", \"05078230\", \"05078500\", \"05079000\", \"05080000\", \"05082500\", \"05082625\", \"05084000\", \"05085000\",\n",
    "         \"05085450\", \"05087500\", \"05090000\", \"05092000\", \"05094000\", \"05099400\", \"05099600\", \"05100000\", \"05101000\",\n",
    "         \"05104500\", \"05106000\", \"05107500\", \"05112000\", \"05113600\", \"05114000\", \"05116000\", \"05116500\", \"05120000\",\n",
    "         \"05120500\", \"05122000\", \"05123400\", \"05123510\", \"05124000\", \"05124480\", \"05125000\", \"05126210\", \"05127500\",\n",
    "         \"05129115\", \"05129515\", \"05131500\", \"05132000\", \"05133500\", \"05134200\"]\n",
    "\n",
    "\n",
    "# Define date range\n",
    "start_date = \"1980-01-01\"\n",
    "end_date = \"2018-01-10\"\n",
    "\n",
    "# Fetch data for the given stations and date range\n",
    "combined_data_ca, station_info_ca = gen_flow.fetch_hydrometric_data_ca(station_ca, start_date, end_date)\n",
    "combined_data_us, station_info_us = gen_flow.extract_flow_data_us(station_us, start_date, end_date)\n",
    "\n",
    "# Combine data into a single DataFrame\n",
    "combined_data = pd.merge(combined_data_ca, combined_data_us, on='Date', how='outer')\n",
    "\n",
    "# Combine station info\n",
    "combined_station_info = station_info_ca + station_info_us\n",
    "\n",
    "# Write the data to a file\n",
    "gen_flow.write_flow_data_to_file_obstxt('output.txt', combined_data, combined_station_info)\n",
    "gen_flow.write_flow_data_to_file_ensim('output_ensim.txt', combined_data, combined_station_info)\n",
    "\n",
    "# Print the resulting DataFrame and station information\n",
    "print(combined_data.head())\n",
    "print(combined_station_info)"
   ]
  },
  {
   "cell_type": "code",
   "execution_count": null,
   "metadata": {
    "id": "p-mm2UEmod2P"
   },
   "outputs": [],
   "source": [
    "station_us = [\"05020500\",\"05030500\",\"05046000\",\"05050000\",\"05051300\",\"05051500\",\"05051522\",\"05051600\",\"05052000\",\"05053000\",\"05054000\",\"05055300\",\"05055400\",\"05056000\",\"05057000\",\"05057200\",\"05058000\",\"05058500\",\"05058700\",\"05059000\",\"05059500\",\"05059700\",\"05060000\",\"05060100\",\n",
    "\"05062000\",\"05062500\",\"05063398\",\"05064000\",\"05064500\",\"05065500\",\"05066500\",\"05070000\",\"05074500\",\"05075000\",\"05076000\",\"05078000\",\"05078500\",\"05079000\",\"05080000\",\"05082500\",\"05085000\",\"05090000\",\"05092000\",\"05094000\",\n",
    "\"05099600\",\"05100000\",\"05107500\",\"05112000\",\"05113600\",\"05114000\",\"05116000\",\"05116500\",\"05120000\",\"05120500\",\"05122000\",\"05123400\",\"05123510\",\"05124000\",\"05126210\",\"05127500\",\"05129115\",\"05129515\",\"05131500\",\"05132000\",\"05133500\",\"05134200\"]\n",
    "\n",
    "station_ca = [\"05AA022\",\"05AA024\",\"05AB021\",\"05AB041\",\"05AB046\",\"05AC003\",\"05AC012\",\"05AC023\",\"05AC031\",\"05AC941\",\"05AD003\",\"05AD007\",\"05AD028\",\"05AD041\",\"05AE006\",\"05AE016\",\"05AE027\",\"05AG003\",\"05AG006\",\"05AH005\",\"05AH050\",\"05AH052\",\"05AJ001\",\"05BB001\",\"05BC001\",\"05BE004\",\"05BF025\",\"05BH004\",\"05BH005\",\"05BH008\",\"05BJ001\",\n",
    "\"05BJ004\",\"05BJ010\",\"05BL004\",\"05BL012\",\"05BL013\",\"05BL014\",\"05BL019\",\"05BL024\",\"05BM002\",\"05BM004\",\"05BM008\",\"05BM014\",\"05BN002\",\"05BN012\",\"05CA002\",\"05CA004\",\"05CA009\",\"05CB001\",\"05CB004\",\"05CB007\",\"05CC001\",\"05CC002\",\"05CC007\",\"05CD004\",\"05CD007\",\"05CD902\",\"05CE001\",\"05CE002\",\"05CE005\",\"05CE006\",\n",
    "\"05CE007\",\"05CE020\",\"05CH007\",\"05CH008\",\"05CH011\",\"05CJ012\",\"05CK001\",\"05CK004\",\"05CK005\",\"05CK006\",\"05DA009\",\"05DB002\",\"05DB006\",\"05DC001\",\"05DC006\",\"05DC010\",\"05DC012\",\"05DD005\",\"05DD007\",\"05DD009\",\"05DE007\",\"05DE911\",\"05DF001\",\"05DF003\",\"05DF004\",\"05EA001\",\"05EA002\",\"05EA005\",\"05EC005\",\"05EE007\",\"05EE009\",\"05EE010\",\n",
    "\"05EF001\",\"05EF004\",\"05EF005\",\"05EG004\",\"05EG005\",\"05FA001\",\"05FA011\",\"05FA012\",\"05FB002\",\"05FC001\",\"05FD001\",\"05FE002\",\"05FE004\",\"05GA003\",\"05GA008\",\"05GA010\",\"05GA012\",\"05GC006\",\"05GF001\",\"05GF002\",\"05GG001\",\"05GG010\",\"05HD036\",\"05HD039\",\"05HE001\",\"05HG001\",\"05HG002\",\"05JA002\",\"05JB001\",\"05JC006\",\"05JE001\",\"05JE004\",\"05JE005\",\n",
    "\"05JE006\",\"05JF001\",\"05JF005\",\"05JF011\",\"05JF012\",\"05JG001\",\"05JG004\",\"05JH001\",\"05JH005\",\"05JJ003\",\"05JJ009\",\"05JK002\",\"05JK004\",\"05JK007\",\"05JK008\",\"05JL005\",\"05JM001\",\"05JM010\",\"05JM013\",\"05JM015\",\"05KA001\",\"05KA009\",\"05KB003\",\"05KC001\",\"05KD003\",\"05KE002\",\"05KE005\",\"05KE010\",\"05KF001\",\"05KG007\",\"05KH007\",\"05KJ001\",\"05KL001\",\"05LA004\",\"05LA005\",\n",
    "\"05LB005\",\"05LB006\",\"05LB007\",\"05LC001\",\"05LC004\",\"05LD001\",\"05LE001\",\"05LE004\",\"05LE005\",\"05LE006\",\"05LE008\",\"05LH005\",\"05LJ007\",\"05LJ010\",\"05LJ012\",\"05LJ025\",\"05LJ045\",\"05LL002\",\"05LL005\",\"05LL015\",\"05LL019\",\"05LM001\",\"05LM006\",\"05MA011\",\"05MA012\",\"05MA016\",\"05MB001\",\"05MB003\",\"05MB006\",\"05MC001\",\"05MD004\",\n",
    "\"05MD005\",\"05MD007\",\"05ME001\",\"05ME003\",\"05ME006\",\"05MF001\",\"05MF008\",\"05MF018\",\"05MF024\",\"05MG001\",\"05MG004\",\"05MH001\",\"05MH005\",\"05MH006\",\"05MJ001\",\"05MJ003\",\"05MJ004\",\"05NA003\",\"05NA004\",\"05NA005\",\"05NB001\",\"05NB011\",\"05NB021\",\"05NB027\",\"05NB031\",\"05NB036\",\"05NB040\",\"05NC001\",\n",
    "\"05ND007\",\"05ND010\",\"05NE003\",\"05NF001\",\"05NF002\",\"05NF006\",\"05NF007\",\"05NF008\",\"05NF012\",\"05NG001\",\"05NG003\",\"05NG007\",\"05NG010\",\"05NG012\",\"05NG020\",\"05NG021\",\"05NG024\",\"05OA006\",\"05OA007\",\"05OA010\",\"05OB001\",\"05OB007\",\"05OB016\",\"05OB019\",\"05OB023\",\"05OC001\",\"05OC004\",\n",
    "\"05OC008\",\"05OC012\",\"05OC016\",\"05OC017\",\"05OC019\",\"05OD001\",\"05OD004\",\"05OE001\",\"05OE011\",\"05OF003\",\"05OF011\",\"05OF014\",\"05OF020\",\"05OF024\",\"05OF026\",\"05OG001\",\"05OG005\",\"05OH007\",\"05OJ005\",\"05OJ008\",\"05PA006\",\"05PA012\",\"05PB009\",\"05PB014\",\"05PC018\",\"05PC019\",\"05PE020\",\"05PF051\",\n",
    "\"05PF063\",\"05PF068\",\"05PF069\",\"05PG001\",\"05PH003\",\"05PJ001\",\"05QA002\",\"05QA004\",\"05QC001\",\"05QD006\",\"05QD016\",\"05QE008\",\"05QE009\",\"05QE012\",\"05RA001\",\"05RB003\",\"05RC001\",\"05SA002\",\"05SC002\",\"05TD001\",\"05TE002\",\"05TF002\",\"05TG001\",\"05TG002\",\"05TG003\",\"05UA003\",\"05UE005\",\n",
    "\"05UF004\",\"05UF006\",\"05UF007\",\"05UG001\",\"05UH001\",\"05UH002\",\"06AA001\",\"06AA002\",\"06AB001\",\"06AB002\",\"06AD001\",\"06AD006\",\"06AD007\",\"06AD009\",\"06AD010\",\"06AF001\",\"06AF005\",\"06AG001\",\"06AG002\",\"06BA002\",\"06BB003\",\"06BB005\",\"06BD001\",\"06CA001\",\n",
    "\"06CB002\",\"06CC001\",\"06CD002\",\"06DA002\",\"06DA004\",\"06DA005\",\"06DC001\",\"06DD002\",\"06EA002\",\"06EA006\",\"06EA011\",\"06EB004\",\"06EC002\",\"06FA001\",\"06FB001\",\"06FB002\",\"06FC001\",\"06FD001\",\"06FD002\"]"
   ]
  },
  {
   "cell_type": "code",
   "execution_count": null,
   "metadata": {
    "id": "ziTwEEijo1Q3"
   },
   "outputs": [],
   "source": [
    "# Define date range\n",
    "start_date = \"1980-01-01\"\n",
    "end_date = \"2018-01-10\"\n",
    "\n",
    "# Fetch data for the given stations and date range\n",
    "combined_data_ca, station_info_ca = gen_flow.fetch_hydrometric_data_ca(station_ca, start_date, end_date)\n",
    "combined_data_us, station_info_us = gen_flow.extract_flow_data_us(station_us, start_date, end_date)\n",
    "\n",
    "# Combine data into a single DataFrame\n",
    "combined_data = pd.merge(combined_data_ca, combined_data_us, on='Date', how='outer')\n",
    "\n",
    "# Combine station info\n",
    "combined_station_info = station_info_ca + station_info_us\n",
    "\n",
    "# Write the data to a file\n",
    "gen_flow.write_flow_data_to_file_obstxt('output.txt', combined_data, combined_station_info)\n",
    "gen_flow.write_flow_data_to_file_ensim('output_ensim.txt', combined_data, combined_station_info)\n",
    "\n",
    "# Print the resulting DataFrame and station information\n",
    "print(combined_data.head())\n",
    "print(combined_station_info)"
   ]
  },
  {
   "cell_type": "code",
   "execution_count": null,
   "metadata": {
    "id": "Y7KSXxitpaQ9"
   },
   "outputs": [],
   "source": []
  }
 ],
 "metadata": {
  "colab": {
   "provenance": []
  },
  "kernelspec": {
   "display_name": "Python 3",
   "name": "python3"
  },
  "language_info": {
   "name": "python"
  }
 },
 "nbformat": 4,
 "nbformat_minor": 0
}
