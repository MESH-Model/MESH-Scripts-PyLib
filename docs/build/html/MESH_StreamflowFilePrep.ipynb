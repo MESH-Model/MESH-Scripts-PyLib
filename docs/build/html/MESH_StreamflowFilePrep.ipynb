{
 "cells": [
  {
   "cell_type": "markdown",
   "metadata": {
    "id": "x4f-3SddWgva"
   },
   "source": [
    "# MESH Streamflow File Preparation"
   ]
  },
  {
   "cell_type": "code",
   "execution_count": null,
   "metadata": {
    "id": "oN3E6dPWgujQ"
   },
   "outputs": [],
   "source": [
    "#!pip uninstall MESH-Scripts-PyLib -y"
   ]
  },
  {
   "cell_type": "code",
   "execution_count": null,
   "metadata": {
    "id": "63EP9voTtlVy"
   },
   "outputs": [],
   "source": [
    "#!pip install owslib"
   ]
  },
  {
   "cell_type": "code",
   "execution_count": null,
   "metadata": {
    "id": "gVwA5BJd84KA"
   },
   "outputs": [],
   "source": [
    "#!pip install git+https://github.com/MESH-Model/MESH-Scripts-PyLib.git"
   ]
  },
  {
   "cell_type": "code",
   "execution_count": null,
   "metadata": {
    "id": "CRWR2iNG9cER"
   },
   "outputs": [],
   "source": [
    "from MESHpyPreProcessing.gen_streamflow_file import GenStreamflowFile\n",
    "\n",
    "gen_flow = GenStreamflowFile()"
   ]
  },
  {
   "cell_type": "code",
   "execution_count": null,
   "metadata": {
    "id": "dSVKhpwbKqEQ"
   },
   "outputs": [],
   "source": [
    "station_ca = [\"05MA012\",\"05MA016\",\"05JJ003\",\"05MD010\",\"05MD004\",\"05MB003\",\"05MB006\",\"05MB001\",\"05MC001\",\"05JJ009\",\"05MD007\",\"05MA011\",\"05JH005\",\"05MB005\",\"05MJ003\",\"05MG001\",\"05ME006\",\"05JM001\",\"05JM013\",\"05JK008\",\"05JK007\",\"05JK002\",\"05ME012\",\"05ME001\",\"05ME007\",\"05JF001\",\"05JF005\",\"05JF006\",\"05JF011\",\"05JF012\",\"05JE006\",\"05JE001\",\"05JE004\",\"05JG004\",\"05JK004\",\"05JG013\",\"05MD005\",\"05NE003\",\"05JH001\",\"05JM015\",\"05JL005\",\"05JE005\",\"05MF001\",\"05JM010\",\"05ME003\",\"05MF024\",\"05ME010\",\"05MF008\",\"05JG001\",\"05MJ001\",\"05MJ004\",\"05MH006\",\"05MH001\",\"05MH013\",\"05NG001\",\"05NG007\",\"05NG012\",\"05NG021\",\"05NF001\",\"05NF008\",\"05NF002\",\"05NF012\",\"05ND004\",\"05ND013\",\"05NB001\",\"05NB036\",\"05NG003\",\"05NG024\",\"05NB017\",\"05NB040\",\"05NB011\",\"05NB031\",\"05NB027\",\"05NF007\",\"05ND010\",\"05NC001\",\"05MF018\",\"05NB021\",\"05MG004\",\"05NF006\",\"05NA004\",\"05NG020\",\"05NG019\",\"05NG010\",\"05NA005\",\"05ND007\",\"05NA003\"]\n",
    "station_us = [\"05112000\",\"05113600\",\"05114000\",\"05116000\",\"05116500\"]\n",
    "start_date = \"1980-01-01\"\n",
    "end_date = \"2018-01-10\"\n",
    "combined_data_ca, station_info_ca = gen_flow.fetch_hydrometric_data_ca(station_ca, start_date, end_date)\n",
    "combined_data_us, station_info_us = gen_flow.extract_flow_data_us(station_us, start_date, end_date)"
   ]
  },
  {
   "cell_type": "code",
   "execution_count": null,
   "metadata": {
    "id": "PPtaDeiSMoLd"
   },
   "outputs": [],
   "source": [
    "import pandas as pd\n",
    "combined_data = pd.merge(combined_data_ca, combined_data_us, on='Date', how='outer')\n",
    "combined_station_info = station_info_ca + station_info_us\n",
    "#combined_data = combined_data_ca\n",
    "#combined_station_info = station_info_ca"
   ]
  },
  {
   "cell_type": "code",
   "execution_count": null,
   "metadata": {
    "id": "bEstd6TTOxQ_"
   },
   "outputs": [],
   "source": [
    "print(station_info_ca)"
   ]
  },
  {
   "cell_type": "code",
   "execution_count": null,
   "metadata": {
    "id": "UB1tnqTz-Gkz"
   },
   "outputs": [],
   "source": [
    "gen_flow.write_flow_data_to_file_obstxt('MESH_input_streamflow.txt', combined_data, combined_station_info)\n",
    "\n",
    "gen_flow.write_flow_data_to_file_ensim('MESH_input_streamflow.tb0', combined_data, combined_station_info)"
   ]
  }
 ],
 "metadata": {
  "colab": {
   "provenance": []
  },
  "kernelspec": {
   "display_name": "Python 3",
   "name": "python3"
  },
  "language_info": {
   "name": "python"
  }
 },
 "nbformat": 4,
 "nbformat_minor": 0
}
