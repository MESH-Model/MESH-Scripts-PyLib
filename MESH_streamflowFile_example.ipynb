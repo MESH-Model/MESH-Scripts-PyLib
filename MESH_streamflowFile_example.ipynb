{
  "nbformat": 4,
  "nbformat_minor": 0,
  "metadata": {
    "colab": {
      "provenance": [],
      "authorship_tag": "ABX9TyNJtA7Mx06gJ9KSrRkMpvKz"
    },
    "kernelspec": {
      "name": "python3",
      "display_name": "Python 3"
    },
    "language_info": {
      "name": "python"
    }
  },
  "cells": [
    {
      "cell_type": "code",
      "execution_count": 1,
      "metadata": {
        "colab": {
          "base_uri": "https://localhost:8080/"
        },
        "collapsed": true,
        "id": "_54EXHXxxGUL",
        "outputId": "e26e8847-48dc-4b4b-b53d-6f1298e1f597"
      },
      "outputs": [
        {
          "output_type": "stream",
          "name": "stdout",
          "text": [
            "Collecting git+https://github.com/MESH-Model/MESH-Scripts-PyLib.git\n",
            "  Cloning https://github.com/MESH-Model/MESH-Scripts-PyLib.git to /tmp/pip-req-build-egynrirw\n",
            "  Running command git clone --filter=blob:none --quiet https://github.com/MESH-Model/MESH-Scripts-PyLib.git /tmp/pip-req-build-egynrirw\n",
            "  Resolved https://github.com/MESH-Model/MESH-Scripts-PyLib.git to commit bd2336e0ae78be33cbb49f9704568f38769f63be\n",
            "  Preparing metadata (setup.py) ... \u001b[?25l\u001b[?25hdone\n",
            "Requirement already satisfied: pandas in /usr/local/lib/python3.10/dist-packages (from MESH-Scripts-PyLib==0.1) (2.2.2)\n",
            "Requirement already satisfied: numpy in /usr/local/lib/python3.10/dist-packages (from MESH-Scripts-PyLib==0.1) (1.26.4)\n",
            "Requirement already satisfied: geopandas in /usr/local/lib/python3.10/dist-packages (from MESH-Scripts-PyLib==0.1) (1.0.1)\n",
            "Collecting netCDF4 (from MESH-Scripts-PyLib==0.1)\n",
            "  Downloading netCDF4-1.7.1.post2-cp310-cp310-manylinux_2_17_x86_64.manylinux2014_x86_64.whl.metadata (1.8 kB)\n",
            "Requirement already satisfied: requests in /usr/local/lib/python3.10/dist-packages (from MESH-Scripts-PyLib==0.1) (2.32.3)\n",
            "Requirement already satisfied: xarray in /usr/local/lib/python3.10/dist-packages (from MESH-Scripts-PyLib==0.1) (2024.9.0)\n",
            "Collecting owslib (from MESH-Scripts-PyLib==0.1)\n",
            "  Downloading OWSLib-0.31.0-py2.py3-none-any.whl.metadata (6.7 kB)\n",
            "Requirement already satisfied: pyogrio>=0.7.2 in /usr/local/lib/python3.10/dist-packages (from geopandas->MESH-Scripts-PyLib==0.1) (0.10.0)\n",
            "Requirement already satisfied: packaging in /usr/local/lib/python3.10/dist-packages (from geopandas->MESH-Scripts-PyLib==0.1) (24.1)\n",
            "Requirement already satisfied: pyproj>=3.3.0 in /usr/local/lib/python3.10/dist-packages (from geopandas->MESH-Scripts-PyLib==0.1) (3.7.0)\n",
            "Requirement already satisfied: shapely>=2.0.0 in /usr/local/lib/python3.10/dist-packages (from geopandas->MESH-Scripts-PyLib==0.1) (2.0.6)\n",
            "Requirement already satisfied: python-dateutil>=2.8.2 in /usr/local/lib/python3.10/dist-packages (from pandas->MESH-Scripts-PyLib==0.1) (2.8.2)\n",
            "Requirement already satisfied: pytz>=2020.1 in /usr/local/lib/python3.10/dist-packages (from pandas->MESH-Scripts-PyLib==0.1) (2024.2)\n",
            "Requirement already satisfied: tzdata>=2022.7 in /usr/local/lib/python3.10/dist-packages (from pandas->MESH-Scripts-PyLib==0.1) (2024.2)\n",
            "Collecting cftime (from netCDF4->MESH-Scripts-PyLib==0.1)\n",
            "  Downloading cftime-1.6.4-cp310-cp310-manylinux_2_17_x86_64.manylinux2014_x86_64.whl.metadata (8.7 kB)\n",
            "Requirement already satisfied: certifi in /usr/local/lib/python3.10/dist-packages (from netCDF4->MESH-Scripts-PyLib==0.1) (2024.8.30)\n",
            "Requirement already satisfied: lxml in /usr/local/lib/python3.10/dist-packages (from owslib->MESH-Scripts-PyLib==0.1) (4.9.4)\n",
            "Requirement already satisfied: pyyaml in /usr/local/lib/python3.10/dist-packages (from owslib->MESH-Scripts-PyLib==0.1) (6.0.2)\n",
            "Requirement already satisfied: charset-normalizer<4,>=2 in /usr/local/lib/python3.10/dist-packages (from requests->MESH-Scripts-PyLib==0.1) (3.4.0)\n",
            "Requirement already satisfied: idna<4,>=2.5 in /usr/local/lib/python3.10/dist-packages (from requests->MESH-Scripts-PyLib==0.1) (3.10)\n",
            "Requirement already satisfied: urllib3<3,>=1.21.1 in /usr/local/lib/python3.10/dist-packages (from requests->MESH-Scripts-PyLib==0.1) (2.2.3)\n",
            "Requirement already satisfied: six>=1.5 in /usr/local/lib/python3.10/dist-packages (from python-dateutil>=2.8.2->pandas->MESH-Scripts-PyLib==0.1) (1.16.0)\n",
            "Downloading netCDF4-1.7.1.post2-cp310-cp310-manylinux_2_17_x86_64.manylinux2014_x86_64.whl (9.0 MB)\n",
            "\u001b[2K   \u001b[90m━━━━━━━━━━━━━━━━━━━━━━━━━━━━━━━━━━━━━━━━\u001b[0m \u001b[32m9.0/9.0 MB\u001b[0m \u001b[31m41.9 MB/s\u001b[0m eta \u001b[36m0:00:00\u001b[0m\n",
            "\u001b[?25hDownloading OWSLib-0.31.0-py2.py3-none-any.whl (233 kB)\n",
            "\u001b[2K   \u001b[90m━━━━━━━━━━━━━━━━━━━━━━━━━━━━━━━━━━━━━━━━\u001b[0m \u001b[32m233.1/233.1 kB\u001b[0m \u001b[31m15.3 MB/s\u001b[0m eta \u001b[36m0:00:00\u001b[0m\n",
            "\u001b[?25hDownloading cftime-1.6.4-cp310-cp310-manylinux_2_17_x86_64.manylinux2014_x86_64.whl (1.3 MB)\n",
            "\u001b[2K   \u001b[90m━━━━━━━━━━━━━━━━━━━━━━━━━━━━━━━━━━━━━━━━\u001b[0m \u001b[32m1.3/1.3 MB\u001b[0m \u001b[31m42.7 MB/s\u001b[0m eta \u001b[36m0:00:00\u001b[0m\n",
            "\u001b[?25hBuilding wheels for collected packages: MESH-Scripts-PyLib\n",
            "  Building wheel for MESH-Scripts-PyLib (setup.py) ... \u001b[?25l\u001b[?25hdone\n",
            "  Created wheel for MESH-Scripts-PyLib: filename=MESH_Scripts_PyLib-0.1-py3-none-any.whl size=17250 sha256=ad579362a3387e4b8cb84cdbedff87c0e6a1e6919ed50f669e0e0cf04668b9f4\n",
            "  Stored in directory: /tmp/pip-ephem-wheel-cache-b47fev31/wheels/06/ab/79/ae4870da7ee02cbe4bddea7f056870d60b68ab4dac28a9cd1b\n",
            "Successfully built MESH-Scripts-PyLib\n",
            "Installing collected packages: cftime, owslib, netCDF4, MESH-Scripts-PyLib\n",
            "Successfully installed MESH-Scripts-PyLib-0.1 cftime-1.6.4 netCDF4-1.7.1.post2 owslib-0.31.0\n"
          ]
        }
      ],
      "source": [
        "!pip install git+https://github.com/MESH-Model/MESH-Scripts-PyLib.git"
      ]
    },
    {
      "cell_type": "code",
      "source": [
        "import pandas as pd\n",
        "from MESHpyPreProcessing.gen_streamflow_file import GenStreamflowFile\n",
        "\n",
        "gen_flow = GenStreamflowFile()"
      ],
      "metadata": {
        "id": "_LOXc7taxOb-"
      },
      "execution_count": 7,
      "outputs": []
    },
    {
      "cell_type": "code",
      "source": [
        "# Preparing MESH streamflow file for Canadian stations using their station IDs.\n",
        "# This example focuses solely on generating files for Canadian stations.\n",
        "\n",
        "# List of Canadian station IDs to retrieve streamflow data for\n",
        "station_ca = [\"05GG001\", \"05AC012\"]\n",
        "\n",
        "# Specify the start and end dates for the data retrieval.\n",
        "# If data is unavailable for the given date range, NaN or negative values will be used.\n",
        "start_date = \"1980-03-01\"\n",
        "end_date = \"2018-01-10\"\n",
        "\n",
        "# Fetch hydrometric data and station metadata for the specified Canadian stations.\n",
        "combined_data_ca, station_info_ca = gen_flow.fetch_hydrometric_data_ca(station_ca, start_date, end_date)\n",
        "\n",
        "# Generate and write streamflow data to the required MESH input files.\n",
        "# Writing data in OBSTXT format.\n",
        "gen_flow.write_flow_data_to_file_obstxt('MESH_input_streamflowCa.txt', combined_data_ca, station_info_ca)\n",
        "\n",
        "# Writing data in ENSIM format.\n",
        "gen_flow.write_flow_data_to_file_ensim('MESH_input_streamflowCa.tb0', combined_data_ca, station_info_ca)"
      ],
      "metadata": {
        "colab": {
          "base_uri": "https://localhost:8080/"
        },
        "id": "kkx6AWeJxaEF",
        "outputId": "9dc6d7f8-ee60-47b4-8170-6a2059a7a993"
      },
      "execution_count": 8,
      "outputs": [
        {
          "output_type": "stream",
          "name": "stdout",
          "text": [
            "Time taken in the for loop for station 05GG001: 0.010010242462158203 seconds\n",
            "Time taken to retrieve data for station 05GG001: 4.679945230484009 seconds\n",
            "Time taken in the for loop for station 05AC012: 0.007491588592529297 seconds\n",
            "Time taken to retrieve data for station 05AC012: 3.2864134311676025 seconds\n"
          ]
        }
      ]
    },
    {
      "cell_type": "code",
      "source": [
        "# Preparing MESH streamflow file for a combination of Canadian and US stations by providing their station IDs.\n",
        "# This example demonstrates how to generate files for both Canadian and US stations.\n",
        "\n",
        "# List of Canadian station IDs to retrieve streamflow data for\n",
        "station_ca = [\"05GG001\", \"05AC012\"]\n",
        "\n",
        "# List of US station IDs to retrieve streamflow data for\n",
        "station_us = [\"06132200\", \"05020500\"]\n",
        "\n",
        "# Specify the start and end dates for the data retrieval.\n",
        "# If data is unavailable for the given date range, NaN or negative values will be used.\n",
        "start_date = \"1980-03-01\"\n",
        "end_date = \"2018-01-10\"\n",
        "\n",
        "# Fetch hydrometric data and station metadata for Canadian stations.\n",
        "combined_data_ca, station_info_ca = gen_flow.fetch_hydrometric_data_ca(station_ca, start_date, end_date)\n",
        "\n",
        "# Fetch hydrometric data and station metadata for US stations.\n",
        "combined_data_us, station_info_us = gen_flow.extract_flow_data_us(station_us, start_date, end_date)\n",
        "\n",
        "# Combine the Canadian and US data based on the 'Date' column.\n",
        "combined_data = pd.merge(combined_data_ca, combined_data_us, on='Date', how='outer')\n",
        "\n",
        "# Combine the station metadata from both Canadian and US stations.\n",
        "combined_station_info = station_info_ca + station_info_us\n",
        "\n",
        "# Generate and write streamflow data to the required MESH input files.\n",
        "# Writing data in OBSTXT format for both Canadian and US stations.\n",
        "gen_flow.write_flow_data_to_file_obstxt('MESH_input_streamflowCaUS.txt', combined_data, combined_station_info)\n",
        "\n",
        "# Writing data in ENSIM format for both Canadian and US stations.\n",
        "gen_flow.write_flow_data_to_file_ensim('MESH_input_streamflowCaUS.tb0', combined_data, combined_station_info)\n"
      ],
      "metadata": {
        "colab": {
          "base_uri": "https://localhost:8080/"
        },
        "id": "Pdb9LIw1ya5L",
        "outputId": "885a11d1-69dc-409f-bc5f-b1dc7b948166"
      },
      "execution_count": 9,
      "outputs": [
        {
          "output_type": "stream",
          "name": "stdout",
          "text": [
            "Time taken in the for loop for station 05GG001: 0.006528377532958984 seconds\n",
            "Time taken to retrieve data for station 05GG001: 4.560375690460205 seconds\n",
            "Time taken in the for loop for station 05AC012: 0.00762486457824707 seconds\n",
            "Time taken to retrieve data for station 05AC012: 3.3374733924865723 seconds\n",
            "Time taken in the for loop for station 06132200: 0.0075418949127197266 seconds\n",
            "Time taken to retrieve data for station 06132200: 1.4709844589233398 seconds\n",
            "Time taken in the for loop for station 05020500: 0.0069713592529296875 seconds\n",
            "Time taken to retrieve data for station 05020500: 1.0036840438842773 seconds\n"
          ]
        }
      ]
    },
    {
      "cell_type": "code",
      "source": [],
      "metadata": {
        "id": "t3HpNENu1pTv"
      },
      "execution_count": null,
      "outputs": []
    }
  ]
}